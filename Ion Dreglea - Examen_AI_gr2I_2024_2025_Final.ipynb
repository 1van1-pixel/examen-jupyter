{
 "cells": [
  {
   "cell_type": "markdown",
   "metadata": {},
   "source": [
    "# Evaluarea pentru examenul **Inteligența Artificială** \n",
    "\n",
    "* Lucrarea este pentru studenții grupei 2I, anul de studii 2024-2025.\n",
    "\n",
    "* Realizați fiecare întrebare și testați codurile care le-ați elaborat.\n",
    "\n",
    "* Semnați lucrarea prin includerea numelui și prenumelui dvs  și adăugați înaintea prinei întrebări un bloc în care vă prezentați.\n",
    "\n",
    "***Succese în realizarea lucrării de examen!***\n",
    "\n",
    "Timp de realizare (***fără ChatGPT&Other***) 3h!"
   ]
  },
  {
   "cell_type": "code",
   "execution_count": null,
   "metadata": {},
   "outputs": [],
   "source": []
  },
  {
   "cell_type": "markdown",
   "metadata": {},
   "source": [
    "### Întrebarea 1: Analiza exploratorie a datelor\n",
    "\n",
    "Încărcați datele din fișierul `HR_Employee_Attrition.csv` folosind biblioteca `pandas`. După încărcare, realizați următoarele:\n",
    "\n",
    "1. Afișați numărul total de rânduri și coloane.\n",
    "\n",
    "2. Enumerați toate coloanele din dataset și tipurile lor de date.\n",
    "\n",
    "3. Verificați dacă există valori lipsă și calculați numărul de valori lipsă pentru fiecare coloană.\n",
    "\n",
    "4. Examinați distribuția valorilor din coloana **Attrition** (variabila țintă) și prezentați rezultatele sub formă de grafic."
   ]
  },
  {
   "cell_type": "code",
   "execution_count": 5,
   "metadata": {},
   "outputs": [
    {
     "name": "stdout",
     "output_type": "stream",
     "text": [
      "Fișierul a fost încărcat cu succes!\n",
      "\n",
      "1. Numărul total de rânduri și coloane:\n",
      "Rânduri: 1470, Coloane: 35\n",
      "\n",
      "2. Coloanele și tipurile lor de date:\n",
      "Age                          int64\n",
      "Attrition                   object\n",
      "BusinessTravel              object\n",
      "DailyRate                    int64\n",
      "Department                  object\n",
      "DistanceFromHome             int64\n",
      "Education                    int64\n",
      "EducationField              object\n",
      "EmployeeCount                int64\n",
      "EmployeeNumber               int64\n",
      "EnvironmentSatisfaction      int64\n",
      "Gender                      object\n",
      "HourlyRate                   int64\n",
      "JobInvolvement               int64\n",
      "JobLevel                     int64\n",
      "JobRole                     object\n",
      "JobSatisfaction              int64\n",
      "MaritalStatus               object\n",
      "MonthlyIncome                int64\n",
      "MonthlyRate                  int64\n",
      "NumCompaniesWorked           int64\n",
      "Over18                      object\n",
      "OverTime                    object\n",
      "PercentSalaryHike            int64\n",
      "PerformanceRating            int64\n",
      "RelationshipSatisfaction     int64\n",
      "StandardHours                int64\n",
      "StockOptionLevel             int64\n",
      "TotalWorkingYears            int64\n",
      "TrainingTimesLastYear        int64\n",
      "WorkLifeBalance              int64\n",
      "YearsAtCompany               int64\n",
      "YearsInCurrentRole           int64\n",
      "YearsSinceLastPromotion      int64\n",
      "YearsWithCurrManager         int64\n",
      "dtype: object\n",
      "\n",
      "3. Numărul de valori lipsă pentru fiecare coloană:\n",
      "Age                         0\n",
      "Attrition                   0\n",
      "BusinessTravel              0\n",
      "DailyRate                   0\n",
      "Department                  0\n",
      "DistanceFromHome            0\n",
      "Education                   0\n",
      "EducationField              0\n",
      "EmployeeCount               0\n",
      "EmployeeNumber              0\n",
      "EnvironmentSatisfaction     0\n",
      "Gender                      0\n",
      "HourlyRate                  0\n",
      "JobInvolvement              0\n",
      "JobLevel                    0\n",
      "JobRole                     0\n",
      "JobSatisfaction             0\n",
      "MaritalStatus               0\n",
      "MonthlyIncome               0\n",
      "MonthlyRate                 0\n",
      "NumCompaniesWorked          0\n",
      "Over18                      0\n",
      "OverTime                    0\n",
      "PercentSalaryHike           0\n",
      "PerformanceRating           0\n",
      "RelationshipSatisfaction    0\n",
      "StandardHours               0\n",
      "StockOptionLevel            0\n",
      "TotalWorkingYears           0\n",
      "TrainingTimesLastYear       0\n",
      "WorkLifeBalance             0\n",
      "YearsAtCompany              0\n",
      "YearsInCurrentRole          0\n",
      "YearsSinceLastPromotion     0\n",
      "YearsWithCurrManager        0\n",
      "dtype: int64\n",
      "\n",
      "4. Distribuția valorilor din coloana 'Attrition':\n",
      "Attrition\n",
      "No     1233\n",
      "Yes     237\n",
      "Name: count, dtype: int64\n"
     ]
    },
    {
     "name": "stderr",
     "output_type": "stream",
     "text": [
      "C:\\Users\\cazac\\AppData\\Local\\Temp\\ipykernel_14544\\945239218.py:29: FutureWarning: \n",
      "\n",
      "Passing `palette` without assigning `hue` is deprecated and will be removed in v0.14.0. Assign the `x` variable to `hue` and set `legend=False` for the same effect.\n",
      "\n",
      "  sns.countplot(data=df, x='Attrition', palette='coolwarm')\n"
     ]
    },
    {
     "data": {
      "image/png": "[encoded data removed]",
      "text/plain": [
       "<Figure size 600x400 with 1 Axes>"
      ]
     },
     "metadata": {},
     "output_type": "display_data"
    }
   ],
   "source": [
    "import pandas as pd\n",
    "import matplotlib.pyplot as plt\n",
    "import seaborn as sns\n",
    "import os\n",
    "\n",
    "file_path = os.path.expanduser(\"~/Downloads/data/HR_Employee_Attrition.csv\")\n",
    "\n",
    "try:\n",
    "    df = pd.read_csv(file_path)\n",
    "    print(\"Fișierul a fost încărcat cu succes!\")\n",
    "except FileNotFoundError:\n",
    "    print(\"Eroare: Fișierul nu a fost găsit. Verificați calea specificată.\")\n",
    "    exit()\n",
    "\n",
    "print(\"\\n1. Numărul total de rânduri și coloane:\")\n",
    "print(f\"Rânduri: {df.shape[0]}, Coloane: {df.shape[1]}\")\n",
    "\n",
    "print(\"\\n2. Coloanele și tipurile lor de date:\")\n",
    "print(df.dtypes)\n",
    "\n",
    "print(\"\\n3. Numărul de valori lipsă pentru fiecare coloană:\")\n",
    "missing_values = df.isnull().sum()\n",
    "print(missing_values)\n",
    "\n",
    "print(\"\\n4. Distribuția valorilor din coloana 'Attrition':\")\n",
    "print(df['Attrition'].value_counts())\n",
    "\n",
    "plt.figure(figsize=(6, 4))\n",
    "sns.countplot(data=df, x='Attrition', palette='coolwarm')\n",
    "plt.title(\"Distribuția valorilor din coloana 'Attrition'\")\n",
    "plt.xlabel(\"Attrition\")\n",
    "plt.ylabel(\"Număr de angajați\")\n",
    "plt.show()\n"
   ]
  },
  {
   "cell_type": "markdown",
   "metadata": {},
   "source": [
    "### Întrebarea 2: Preprocesarea datelor\n",
    "    \n",
    "1. Examinați variabilele de tip **object** (`BusinessTravel`, `Department`, `EducationField`, etc.) și realizați o conversie adecvată în variabile numerice folosind:\n",
    "* `Label Encoding` pentru coloanele cu puține categorii (ex.: *Gender*).\n",
    "* `One-Hot Encoding` pentru coloanele cu mai multe categorii (ex.: *JobRole*).\n",
    "2. Normalizați variabilele numerice (de exemplu: *Age*, *MonthlyIncome*) folosind **MinMaxScaler** astfel încât valorile să fie între 0 și 1.\n"
   ]
  },
  {
   "cell_type": "code",
   "execution_count": 7,
   "metadata": {},
   "outputs": [
    {
     "name": "stdout",
     "output_type": "stream",
     "text": [
      "\n",
      "Datele preprocesate (primele 5 rânduri):\n",
      "        Age Attrition  DailyRate  DistanceFromHome  Education  EmployeeCount  \\\n",
      "0  0.547619       Yes       1102                 1          2              1   \n",
      "1  0.738095        No        279                 8          1              1   \n",
      "2  0.452381       Yes       1373                 2          2              1   \n",
      "3  0.357143        No       1392                 3          4              1   \n",
      "4  0.214286        No        591                 2          1              1   \n",
      "\n",
      "   EmployeeNumber  EnvironmentSatisfaction  Gender  HourlyRate  ...  \\\n",
      "0               1                        2       0          94  ...   \n",
      "1               2                        3       1          61  ...   \n",
      "2               4                        4       1          92  ...   \n",
      "3               5                        4       0          56  ...   \n",
      "4               7                        1       1          40  ...   \n",
      "\n",
      "   JobRole_Sales Representative  Department_Research & Development  \\\n",
      "0                         False                              False   \n",
      "1                         False                               True   \n",
      "2                         False                               True   \n",
      "3                         False                               True   \n",
      "4                         False                               True   \n",
      "\n",
      "   Department_Sales EducationField_Life Sciences  EducationField_Marketing  \\\n",
      "0              True                         True                     False   \n",
      "1             False                         True                     False   \n",
      "2             False                        False                     False   \n",
      "3             False                         True                     False   \n",
      "4             False                        False                     False   \n",
      "\n",
      "   EducationField_Medical  EducationField_Other  \\\n",
      "0                   False                 False   \n",
      "1                   False                 False   \n",
      "2                   False                  True   \n",
      "3                   False                 False   \n",
      "4                    True                 False   \n",
      "\n",
      "  EducationField_Technical Degree BusinessTravel_Travel_Frequently  \\\n",
      "0                           False                            False   \n",
      "1                           False                             True   \n",
      "2                           False                            False   \n",
      "3                           False                             True   \n",
      "4                           False                            False   \n",
      "\n",
      "   BusinessTravel_Travel_Rarely  \n",
      "0                          True  \n",
      "1                         False  \n",
      "2                          True  \n",
      "3                         False  \n",
      "4                          True  \n",
      "\n",
      "[5 rows x 48 columns]\n"
     ]
    }
   ],
   "source": [
    "from sklearn.preprocessing import LabelEncoder, OneHotEncoder, MinMaxScaler\n",
    "from sklearn.compose import ColumnTransformer\n",
    "from sklearn.pipeline import Pipeline\n",
    "\n",
    "label_columns = ['Gender']\n",
    "label_encoder = LabelEncoder()\n",
    "\n",
    "for col in label_columns:\n",
    "    df[col] = label_encoder.fit_transform(df[col])\n",
    "\n",
    "one_hot_columns = ['JobRole', 'Department', 'EducationField', 'BusinessTravel']  # Exemple de coloane cu multe categorii\n",
    "df = pd.get_dummies(df, columns=one_hot_columns, drop_first=True)  # drop_first=True pentru a evita colini redundante\n",
    "\n",
    "numeric_columns = ['Age', 'MonthlyIncome']\n",
    "scaler = MinMaxScaler()\n",
    "\n",
    "df[numeric_columns] = scaler.fit_transform(df[numeric_columns])\n",
    "\n",
    "print(\"\\nDatele preprocesate (primele 5 rânduri):\")\n",
    "print(df.head())\n"
   ]
  },
  {
   "cell_type": "markdown",
   "metadata": {},
   "source": [
    "### Întrebarea 3: Crearea subseturilor de date\n",
    "\n",
    "1. Filtrați angajații cu **Attrition = \"Yes\"** și calculați următoarele statistici descriptive:\n",
    "* Media și deviația standard pentru variabilele *Age*, *MonthlyIncome* și *YearsAtCompany*.\n",
    "2. Creați un subset cu angajații care au **OverTime = \"Yes\"** și **WorkLifeBalance = 1**. Analizați distribuția variabilei *Attrition* în acest subset."
   ]
  },
  {
   "cell_type": "code",
   "execution_count": null,
   "metadata": {},
   "outputs": [],
   "source": []
  },
  {
   "cell_type": "markdown",
   "metadata": {},
   "source": [
    "### Întrebarea 4: Corelații și relații între variabile\n",
    "\n",
    "1. Calculați matricea de corelație pentru toate coloanele numerice.\n",
    "* Identificați variabilele care au cea mai mare corelație pozitivă și negativă cu *Attrition*.\n",
    "2. Realizați un boxplot pentru variabila `MonthlyIncome` în funcție de `Attrition` (`Yes` și `No`). Ce observați?"
   ]
  },
  {
   "cell_type": "code",
   "execution_count": null,
   "metadata": {},
   "outputs": [],
   "source": []
  },
  {
   "cell_type": "markdown",
   "metadata": {},
   "source": [
    "### Întrebarea 5: Construirea unui model SVM\n",
    "\n",
    "1. Pregătiți datele pentru modelare:\n",
    "\n",
    "* **Variabile independente**: toate coloanele numerice și variabilele encodate.\n",
    "* **Variabila țintă**: `Attrition` (convertește valorile în 0 și 1: **Yes = 1**, **No = 0**).\n",
    "2. Împărțiți datele în **seturi de antrenare** și **testare** (80%-20%).\n",
    "3. Antrenați un **Support Vector Machine (SVM)** folosind un **kernel liniar**.\n",
    "* Afișați numărul de suport vectori pentru fiecare clasă.\n",
    "4. Evaluați performanța modelului pe setul de testare folosind următorii metrici:\n",
    "* **Acuratețea**\n",
    "* **Precizia**\n",
    "* **Recall-ul**\n",
    "* **F1-Score**"
   ]
  },
  {
   "cell_type": "code",
   "execution_count": null,
   "metadata": {},
   "outputs": [],
   "source": []
  },
  {
   "cell_type": "markdown",
   "metadata": {},
   "source": [
    "### Întrebarea 6: Compararea kernelurilor pentru SVM\n",
    "1. Antrenați un model SVM folosind următoarele kerneluri:\n",
    "* **Liniar**\n",
    "* **RBF (Radial Basis Function)**\n",
    "* **Polinomial (grad 3)**\n",
    "2. Comparați performanțele celor trei modele folosind **acuratețea** și **F1-Score** pe setul de testare.\n",
    "3. Explicați care kernel a performat cel mai bine și de ce credeți că acesta este cazul."
   ]
  },
  {
   "cell_type": "code",
   "execution_count": null,
   "metadata": {},
   "outputs": [],
   "source": []
  },
  {
   "cell_type": "markdown",
   "metadata": {},
   "source": [
    "### Întrebarea 7: Optimizarea modelului SVM\n",
    "1. Utilizați **GridSearchCV** pentru a optimiza hiperparametrii modelului SVM (de exemplu, `C` și `gamma` pentru kernelul RBF).\n",
    "2. Afișați hiperparametrii care maximizează performanța pe setul de validare.\n",
    "3. Re-antrenați modelul cu acești hiperparametri și evaluați performanța pe setul de testare."
   ]
  },
  {
   "cell_type": "code",
   "execution_count": null,
   "metadata": {},
   "outputs": [],
   "source": []
  },
  {
   "cell_type": "markdown",
   "metadata": {},
   "source": [
    "### Întrebarea 8: Compararea SVM cu alte modele\n",
    "1. Antrenați un **arbore de decizie** și un model de regresie logistică pe aceleași date.\n",
    "2. Comparați performanța acestor modele cu cea a modelului SVM folosind aceleași metrici: **acuratețea**, **precizia**, **recall-ul** și **F1-Score**.\n",
    "3. Care model este cel mai potrivit pentru datele analizate și de ce?"
   ]
  },
  {
   "cell_type": "code",
   "execution_count": null,
   "metadata": {},
   "outputs": [],
   "source": []
  },
  {
   "cell_type": "markdown",
   "metadata": {},
   "source": []
  }
 ],
 "metadata": {
  "kernelspec": {
   "display_name": "Python [conda env:base] *",
   "language": "python",
   "name": "conda-base-py"
  },
  "language_info": {
   "codemirror_mode": {
    "name": "ipython",
    "version": 3
   },
   "file_extension": ".py",
   "mimetype": "text/x-python",
   "name": "python",
   "nbconvert_exporter": "python",
   "pygments_lexer": "ipython3",
   "version": "3.12.7"
  }
 },
 "nbformat": 4,
 "nbformat_minor": 4
}
