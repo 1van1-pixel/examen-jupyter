{
 "cells": [
  {
   "cell_type": "markdown",
   "metadata": {},
   "source": [
    "# Evaluarea pentru examenul **Inteligența Artificială** \n",
    "\n",
    "* Lucrarea este pentru studenții grupei 2I, anul de studii 2024-2025.\n",
    "\n",
    "* Realizați fiecare întrebare și testați codurile care le-ați elaborat.\n",
    "\n",
    "* Semnați lucrarea prin includerea numelui și prenumelui dvs  și adăugați înaintea prinei întrebări un bloc în care vă prezentați.\n",
    "\n",
    "***Succese în realizarea lucrării de examen!***\n",
    "\n",
    "Timp de realizare (***fără ChatGPT&Other***) 3h!"
   ]
  },
  {
   "cell_type": "code",
   "execution_count": null,
   "metadata": {},
   "outputs": [],
   "source": []
  },
  {
   "cell_type": "markdown",
   "metadata": {},
   "source": [
    "### Întrebarea 1: Analiza exploratorie a datelor\n",
    "\n",
    "Încărcați datele din fișierul `HR_Employee_Attrition.csv` folosind biblioteca `pandas`. După încărcare, realizați următoarele:\n",
    "\n",
    "1. Afișați numărul total de rânduri și coloane.\n",
    "\n",
    "2. Enumerați toate coloanele din dataset și tipurile lor de date.\n",
    "\n",
    "3. Verificați dacă există valori lipsă și calculați numărul de valori lipsă pentru fiecare coloană.\n",
    "\n",
    "4. Examinați distribuția valorilor din coloana **Attrition** (variabila țintă) și prezentați rezultatele sub formă de grafic."
   ]
  },
  {
   "cell_type": "code",
   "execution_count": 46,
   "metadata": {},
   "outputs": [
    {
     "name": "stdout",
     "output_type": "stream",
     "text": [
      "Number of rows: 1470\n",
      "Number of columns: 35\n",
      "Data types:\n",
      "Age                          int64\n",
      "Attrition                   object\n",
      "BusinessTravel              object\n",
      "DailyRate                    int64\n",
      "Department                  object\n",
      "DistanceFromHome             int64\n",
      "Education                    int64\n",
      "EducationField              object\n",
      "EmployeeCount                int64\n",
      "EmployeeNumber               int64\n",
      "EnvironmentSatisfaction      int64\n",
      "Gender                      object\n",
      "HourlyRate                   int64\n",
      "JobInvolvement               int64\n",
      "JobLevel                     int64\n",
      "JobRole                     object\n",
      "JobSatisfaction              int64\n",
      "MaritalStatus               object\n",
      "MonthlyIncome                int64\n",
      "MonthlyRate                  int64\n",
      "NumCompaniesWorked           int64\n",
      "Over18                      object\n",
      "OverTime                    object\n",
      "PercentSalaryHike            int64\n",
      "PerformanceRating            int64\n",
      "RelationshipSatisfaction     int64\n",
      "StandardHours                int64\n",
      "StockOptionLevel             int64\n",
      "TotalWorkingYears            int64\n",
      "TrainingTimesLastYear        int64\n",
      "WorkLifeBalance              int64\n",
      "YearsAtCompany               int64\n",
      "YearsInCurrentRole           int64\n",
      "YearsSinceLastPromotion      int64\n",
      "YearsWithCurrManager         int64\n",
      "dtype: object\n"
     ]
    }
   ],
   "source": [
    "import os\n",
    "data_path = ['data']\n",
    "import numpy as np\n",
    "import pandas as pd\n",
    "\n",
    "filepath = os.sep.join(data_path + ['HR_Employee_Attrition.csv'])\n",
    "data = pd.read_csv(filepath)\n",
    "\n",
    "print(\"Number of rows:\", data.shape[0])\n",
    "\n",
    "print(\"Number of columns:\", data.shape[1])\n",
    "\n",
    "print(\"Data types:\")\n",
    "print(data.dtypes)\n"
   ]
  },
  {
   "cell_type": "code",
   "execution_count": 48,
   "metadata": {},
   "outputs": [
    {
     "data": {
      "image/png": "[encoded data removed]",
      "text/plain": [
       "<Figure size 640x480 with 1 Axes>"
      ]
     },
     "metadata": {},
     "output_type": "display_data"
    }
   ],
   "source": [
    "# Using Matplotlib's plotting functionality\n",
    "import matplotlib.pyplot as plt\n",
    "%matplotlib inline \n",
    "\n",
    "ax = plt.axes()\n",
    "ax.hist(data.Attrition, bins=25);\n",
    "\n",
    "ax.set(xlabel='grafic', \n",
    "       ylabel='...',\n",
    "       title='...');\n",
    "plt.show()"
   ]
  },
  {
   "cell_type": "markdown",
   "metadata": {},
   "source": [
    "### Întrebarea 2: Preprocesarea datelor\n",
    "    \n",
    "1. Examinați variabilele de tip **object** (`BusinessTravel`, `Department`, `EducationField`, etc.) și realizați o conversie adecvată în variabile numerice folosind:\n",
    "* `Label Encoding` pentru coloanele cu puține categorii (ex.: *Gender*).\n",
    "* `One-Hot Encoding` pentru coloanele cu mai multe categorii (ex.: *JobRole*).\n",
    "2. Normalizați variabilele numerice (de exemplu: *Age*, *MonthlyIncome*) folosind **MinMaxScaler** astfel încât valorile să fie între 0 și 1.\n"
   ]
  },
  {
   "cell_type": "code",
   "execution_count": 42,
   "metadata": {},
   "outputs": [
    {
     "name": "stdout",
     "output_type": "stream",
     "text": [
      "   BusinessTravel  Gender  Age  MonthlyIncome  Department_HR  \\\n",
      "0               1       1  0.0            0.0              0   \n",
      "1               1       0  0.0            0.0              0   \n",
      "2               0       1  0.0            0.0              0   \n",
      "3               1       0  0.0            0.0              1   \n",
      "\n",
      "   Department_Research & Development  Department_Sales  \\\n",
      "0                                  0                 1   \n",
      "1                                  1                 0   \n",
      "2                                  0                 1   \n",
      "3                                  0                 0   \n",
      "\n",
      "   EducationField_Life Sciences  EducationField_Marketing  \\\n",
      "0                             1                         0   \n",
      "1                             0                         0   \n",
      "2                             0                         1   \n",
      "3                             0                         0   \n",
      "\n",
      "   EducationField_Medical  EducationField_Technical Degree  \\\n",
      "0                       0                                0   \n",
      "1                       1                                0   \n",
      "2                       0                                0   \n",
      "3                       0                                1   \n",
      "\n",
      "   JobRole_Human Resources  JobRole_Manager  JobRole_Research Scientist  \\\n",
      "0                        0                0                           0   \n",
      "1                        0                0                           1   \n",
      "2                        0                1                           0   \n",
      "3                        1                0                           0   \n",
      "\n",
      "   JobRole_Sales Executive  \n",
      "0                        1  \n",
      "1                        0  \n",
      "2                        0  \n",
      "3                        0  \n"
     ]
    }
   ],
   "source": [
    "import pandas as pd \n",
    "from sklearn.preprocessing import LabelEncoder, MinMaxScaler \n",
    "\n",
    "data = pd.DataFrame({ \n",
    "    'BusinessTravel': ['Travel_Rarely', 'Travel_Frequently', 'Non-Travel', 'Travel_Rarely'], \n",
    "    'Department': ['Sales', 'Research & Development', 'Sales', 'HR'], \n",
    "    'EducationField': ['Life Sciences', 'Medical', 'Marketing', 'Technical Degree'], \n",
    "    'Gender': ['Male', 'Female', 'Male', 'Female'], \n",
    "    'JobRole': ['Sales Executive', 'Research Scientist', 'Manager', 'Human Resources'], \n",
    "    'Age': [35, 40, 28, 50], \n",
    "    'MonthlyIncome': [5000, 6000, 2000, 8000] \n",
    "}) \n",
    "\n",
    "low_cardinality_cols = ['Gender', 'BusinessTravel']  \n",
    "high_cardinality_cols = ['Department', 'EducationField', 'JobRole']   \n",
    " \n",
    "label_encoder = LabelEncoder() \n",
    "for col in low_cardinality_cols: \n",
    "    data[col] = label_encoder.fit_transform(data[col]) \n",
    " \n",
    "data = pd.get_dummies(data, columns=high_cardinality_cols, drop_first=False) \n",
    "\n",
    "data = data.map(lambda x: 1 if x else 0) \n",
    "\n",
    "scaler = MinMaxScaler() \n",
    "numeric_cols = ['Age', 'MonthlyIncome'] \n",
    "data[numeric_cols] = scaler.fit_transform(data[numeric_cols]) \n",
    "\n",
    "print(data)"
   ]
  },
  {
   "cell_type": "markdown",
   "metadata": {},
   "source": [
    "### Întrebarea 3: Crearea subseturilor de date\n",
    "\n",
    "1. Filtrați angajații cu **Attrition = \"Yes\"** și calculați următoarele statistici descriptive:\n",
    "* Media și deviația standard pentru variabilele *Age*, *MonthlyIncome* și *YearsAtCompany*.\n",
    "2. Creați un subset cu angajații care au **OverTime = \"Yes\"** și **WorkLifeBalance = 1**. Analizați distribuția variabilei *Attrition* în acest subset."
   ]
  },
  {
   "cell_type": "code",
   "execution_count": null,
   "metadata": {},
   "outputs": [],
   "source": []
  },
  {
   "cell_type": "markdown",
   "metadata": {},
   "source": [
    "### Întrebarea 4: Corelații și relații între variabile\n",
    "\n",
    "1. Calculați matricea de corelație pentru toate coloanele numerice.\n",
    "* Identificați variabilele care au cea mai mare corelație pozitivă și negativă cu *Attrition*.\n",
    "2. Realizați un boxplot pentru variabila `MonthlyIncome` în funcție de `Attrition` (`Yes` și `No`). Ce observați?"
   ]
  },
  {
   "cell_type": "code",
   "execution_count": null,
   "metadata": {},
   "outputs": [],
   "source": []
  },
  {
   "cell_type": "markdown",
   "metadata": {},
   "source": [
    "### Întrebarea 5: Construirea unui model SVM\n",
    "\n",
    "1. Pregătiți datele pentru modelare:\n",
    "\n",
    "* **Variabile independente**: toate coloanele numerice și variabilele encodate.\n",
    "* **Variabila țintă**: `Attrition` (convertește valorile în 0 și 1: **Yes = 1**, **No = 0**).\n",
    "2. Împărțiți datele în **seturi de antrenare** și **testare** (80%-20%).\n",
    "3. Antrenați un **Support Vector Machine (SVM)** folosind un **kernel liniar**.\n",
    "* Afișați numărul de suport vectori pentru fiecare clasă.\n",
    "4. Evaluați performanța modelului pe setul de testare folosind următorii metrici:\n",
    "* **Acuratețea**\n",
    "* **Precizia**\n",
    "* **Recall-ul**\n",
    "* **F1-Score**"
   ]
  },
  {
   "cell_type": "code",
   "execution_count": null,
   "metadata": {},
   "outputs": [],
   "source": []
  },
  {
   "cell_type": "markdown",
   "metadata": {},
   "source": [
    "### Întrebarea 6: Compararea kernelurilor pentru SVM\n",
    "1. Antrenați un model SVM folosind următoarele kerneluri:\n",
    "* **Liniar**\n",
    "* **RBF (Radial Basis Function)**\n",
    "* **Polinomial (grad 3)**\n",
    "2. Comparați performanțele celor trei modele folosind **acuratețea** și **F1-Score** pe setul de testare.\n",
    "3. Explicați care kernel a performat cel mai bine și de ce credeți că acesta este cazul."
   ]
  },
  {
   "cell_type": "code",
   "execution_count": null,
   "metadata": {},
   "outputs": [],
   "source": []
  },
  {
   "cell_type": "markdown",
   "metadata": {},
   "source": [
    "### Întrebarea 7: Optimizarea modelului SVM\n",
    "1. Utilizați **GridSearchCV** pentru a optimiza hiperparametrii modelului SVM (de exemplu, `C` și `gamma` pentru kernelul RBF).\n",
    "2. Afișați hiperparametrii care maximizează performanța pe setul de validare.\n",
    "3. Re-antrenați modelul cu acești hiperparametri și evaluați performanța pe setul de testare."
   ]
  },
  {
   "cell_type": "code",
   "execution_count": null,
   "metadata": {},
   "outputs": [],
   "source": []
  },
  {
   "cell_type": "markdown",
   "metadata": {},
   "source": [
    "### Întrebarea 8: Compararea SVM cu alte modele\n",
    "1. Antrenați un **arbore de decizie** și un model de regresie logistică pe aceleași date.\n",
    "2. Comparați performanța acestor modele cu cea a modelului SVM folosind aceleași metrici: **acuratețea**, **precizia**, **recall-ul** și **F1-Score**.\n",
    "3. Care model este cel mai potrivit pentru datele analizate și de ce?"
   ]
  },
  {
   "cell_type": "code",
   "execution_count": null,
   "metadata": {},
   "outputs": [],
   "source": []
  },
  {
   "cell_type": "markdown",
   "metadata": {},
   "source": []
  }
 ],
 "metadata": {
  "kernelspec": {
   "display_name": "Python [conda env:base] *",
   "language": "python",
   "name": "conda-base-py"
  },
  "language_info": {
   "codemirror_mode": {
    "name": "ipython",
    "version": 3
   },
   "file_extension": ".py",
   "mimetype": "text/x-python",
   "name": "python",
   "nbconvert_exporter": "python",
   "pygments_lexer": "ipython3",
   "version": "3.12.7"
  }
 },
 "nbformat": 4,
 "nbformat_minor": 4
}
